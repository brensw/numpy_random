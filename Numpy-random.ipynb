{
 "cells": [
  {
   "cell_type": "markdown",
   "metadata": {},
   "source": [
    "# Programming for Data Analysis: Assignment 1\n",
    " "
   ]
  },
  {
   "cell_type": "markdown",
   "metadata": {
    "collapsed": true
   },
   "source": [
    "## Describtion of the numby.random package\n"
   ]
  },
  {
   "cell_type": "markdown",
   "metadata": {},
   "source": [
    " The numby.random package, part of the NumPy  allows users to create random numbers quickly using python. \n",
    " ![NumPy](img/numpy.PNG \"NumPy (source: numby.org)\") \n",
    " \n",
    " The numby.random package is more versatile then the in-built python random command as it allows for the creation of random arrays and probability distributions.\n",
    "\n",
    "numby.random commands can be split into types, these are;\n",
    "\n",
    "-  Simple random data\n",
    "-  Permutations\n",
    "-  Distributions\n",
    "-  Random generator\n",
    "\n",
    "An over of these commands and their uses will be discussed below. \n",
    "\n",
    "\n"
   ]
  },
  {
   "cell_type": "markdown",
   "metadata": {
    "collapsed": true
   },
   "source": [
    "### Simple Random data\n"
   ]
  },
  {
   "cell_type": "markdown",
   "metadata": {},
   "source": [
    "The list of ten commands below can generate random numbers in different sizes and formats depending on ones requirements.\n"
   ]
  },
  {
   "cell_type": "markdown",
   "metadata": {},
   "source": [
    "![Simple Random DataCommand List ](img/SRData.png \"(source: scipy.org)\")"
   ]
  },
  {
   "cell_type": "markdown",
   "metadata": {},
   "source": [
    "An example of the randint command in use is demostrated below."
   ]
  },
  {
   "cell_type": "code",
   "execution_count": 2,
   "metadata": {},
   "outputs": [
    {
     "data": {
      "text/plain": [
       "array([11, 13, 11, 11, 13, 12, 11, 14, 12, 14, 14, 11, 11, 14, 13, 13, 12,\n",
       "       13, 13, 13, 13, 11, 12, 12, 11])"
      ]
     },
     "execution_count": 2,
     "metadata": {},
     "output_type": "execute_result"
    }
   ],
   "source": [
    "import numpy as np\n",
    "np.random.randint(11,high=15, size=25)\n"
   ]
  },
  {
   "cell_type": "markdown",
   "metadata": {},
   "source": [
    "This command has filled an array of 25  with random integers between 11 and 15,changing this command slightly was can get a difffernt array format. \n"
   ]
  },
  {
   "cell_type": "code",
   "execution_count": 24,
   "metadata": {},
   "outputs": [
    {
     "data": {
      "text/plain": [
       "array([[14,  5, 14],\n",
       "       [ 1,  4, 14],\n",
       "       [14, 15,  1],\n",
       "       [10, 12,  9],\n",
       "       [ 3,  7, 15],\n",
       "       [14,  6, 16]])"
      ]
     },
     "execution_count": 24,
     "metadata": {},
     "output_type": "execute_result"
    }
   ],
   "source": [
    "np.random.randint(1, high=17, size=(6, 3))"
   ]
  },
  {
   "cell_type": "markdown",
   "metadata": {},
   "source": [
    "As can be seen from the example above, these command are use when one is looking to create new random content, the next set of command can be used when one wants to randomise already existing content "
   ]
  },
  {
   "cell_type": "markdown",
   "metadata": {},
   "source": [
    "### Permutations\n",
    "Below is the list of permutation commands availible in the numby.random package, these commands can re-order the sequence of existing numbers. \n",
    "![Permutaion commands ](img/Perm.PNG \"(source:scipy.org)\")"
   ]
  },
  {
   "cell_type": "markdown",
   "metadata": {},
   "source": [
    "The use of the premution commands can be seen below, where the numbers 1, 4, 9, 12 & 15 care arrange in a random order. "
   ]
  },
  {
   "cell_type": "code",
   "execution_count": 3,
   "metadata": {},
   "outputs": [
    {
     "data": {
      "text/plain": [
       "array([ 4,  1, 15,  9, 12])"
      ]
     },
     "execution_count": 3,
     "metadata": {},
     "output_type": "execute_result"
    }
   ],
   "source": [
    " np.random.permutation([1, 4, 9, 12, 15])\n"
   ]
  },
  {
   "cell_type": "code",
   "execution_count": 4,
   "metadata": {},
   "outputs": [
    {
     "data": {
      "text/plain": [
       "array([ 9,  1,  4, 15, 12])"
      ]
     },
     "execution_count": 4,
     "metadata": {},
     "output_type": "execute_result"
    }
   ],
   "source": [
    " np.random.permutation([1, 4, 9, 12, 15])\n"
   ]
  },
  {
   "cell_type": "markdown",
   "metadata": {},
   "source": [
    "### Distributions\n",
    "Below is a selection of commands from the distribution list of commands, these commands allow one to use random saples from a particular distrpution type.\n",
    "![Distributions (source: scipy.org)](img/dist.PNG)"
   ]
  },
  {
   "cell_type": "markdown",
   "metadata": {},
   "source": [
    "Below the beta distubtion command is used to create an array of 6 random numbers with such a distribution. \n"
   ]
  },
  {
   "cell_type": "code",
   "execution_count": 21,
   "metadata": {},
   "outputs": [
    {
     "data": {
      "text/plain": [
       "array([6.25833059e-01, 2.82542804e-01, 9.97387227e-01, 2.62225518e-02,\n",
       "       1.40361913e-04, 2.65372357e-01, 7.13105230e-01, 1.85941131e-01,\n",
       "       1.63343985e-01, 2.78735034e-02])"
      ]
     },
     "execution_count": 21,
     "metadata": {},
     "output_type": "execute_result"
    }
   ],
   "source": [
    "np.random.beta(.5, .5, size=10)"
   ]
  },
  {
   "cell_type": "code",
   "execution_count": 20,
   "metadata": {},
   "outputs": [
    {
     "data": {
      "image/png": "[encoded data removed]",
      "text/plain": [
       "<matplotlib.figure.Figure at 0x1a90f2f10f0>"
      ]
     },
     "metadata": {},
     "output_type": "display_data"
    }
   ],
   "source": [
    "import matplotlib.pyplot as plt\n",
    "plt.hist(np.random.beta(.5, .5, size=1000))\n",
    "plt.show()"
   ]
  },
  {
   "cell_type": "markdown",
   "metadata": {
    "collapsed": true
   },
   "source": [
    "Above is an example of this function in use, generating random values with a typical beta distribution. The plot created using this data does reflect the expected shape given the α and β values used, as seen below.\n",
    "![Beta Distribution](img/betaplot.PNG \"(source:Wikipedia)\")"
   ]
  },
  {
   "cell_type": "markdown",
   "metadata": {
    "collapsed": true
   },
   "source": [
    "### Random Generator\n",
    "\n",
    "The final of the four commands do not in themselves create data, instead they deal with how the random generator can be tuned by the user. The random data created by the commands outlined above is not in fact totally random, rather it is pseudo-random. It is the result of an algorithm that produces near random data, this algorithm uses seed number from which it can produce pseudo-random data. Using the commands shown below, the user can get information regarding the state of the generator and alter the seed used. \n",
    "The ability to manually set the seed means that information generated using a specific seed value can be reproduced at a later stage using the same seed value.\n",
    "\n",
    "![Random Gen commands](img/gen.PNG \"(source: scipy.org)\")"
   ]
  },
  {
   "cell_type": "code",
   "execution_count": 34,
   "metadata": {},
   "outputs": [
    {
     "data": {
      "text/plain": [
       "<method 'hypergeometric' of 'mtrand.RandomState' objects>"
      ]
     },
     "execution_count": 34,
     "metadata": {},
     "output_type": "execute_result"
    }
   ],
   "source": [
    "np.random.RandomState.hypergeometric"
   ]
  },
  {
   "cell_type": "markdown",
   "metadata": {},
   "source": [
    "Above we can see how the seed can be manually manipualted. In this case seeded with a number from the a hypergeometric distribution. \n",
    "\n"
   ]
  },
  {
   "cell_type": "markdown",
   "metadata": {},
   "source": [
    "### References \n",
    "\n",
    "1. Scipy.org, Random Sampling, Available at :https://docs.scipy.org/doc/numpy-1.15.1/reference/routines.random.html#distributions\n"
   ]
  }
 ],
 "metadata": {
  "kernelspec": {
   "display_name": "Python 3",
   "language": "python",
   "name": "python3"
  },
  "language_info": {
   "codemirror_mode": {
    "name": "ipython",
    "version": 3
   },
   "file_extension": ".py",
   "mimetype": "text/x-python",
   "name": "python",
   "nbconvert_exporter": "python",
   "pygments_lexer": "ipython3",
   "version": "3.6.3"
  }
 },
 "nbformat": 4,
 "nbformat_minor": 2
}
