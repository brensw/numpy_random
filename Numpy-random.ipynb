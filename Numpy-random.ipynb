{
 "cells": [
  {
   "cell_type": "markdown",
   "metadata": {},
   "source": [
    "# Programming for Data Analysis: Assignment 1\n",
    " "
   ]
  },
  {
   "cell_type": "markdown",
   "metadata": {
    "collapsed": true
   },
   "source": [
    "## Describtion of the numby.random package\n"
   ]
  },
  {
   "cell_type": "markdown",
   "metadata": {},
   "source": [
    " The numby.random package allows users to create random numbers quickly using python. The numby.random package is more versatile then the in-built python random command as it allows for the creation of random arrays and probability distributions.\n",
    "\n",
    "numby.random commands can be split into types, these are;\n",
    "\n",
    "-  Simple random data\n",
    "-  Permutations\n",
    "-  Distributions\n",
    "-  Random generator\n",
    "\n",
    "An over of these commands and their uses will be discussed below. \n",
    "\n",
    "\n"
   ]
  },
  {
   "cell_type": "markdown",
   "metadata": {
    "collapsed": true
   },
   "source": [
    "### Simple Random data\n"
   ]
  },
  {
   "cell_type": "markdown",
   "metadata": {},
   "source": [
    "The list of ten commands below can generate random numbers in different sizes and formats depending on ones requirements.\n"
   ]
  },
  {
   "cell_type": "markdown",
   "metadata": {},
   "source": [
    "![Simple Random DataCommand List (source: scipy.org)](img/SRData.png)"
   ]
  },
  {
   "cell_type": "markdown",
   "metadata": {},
   "source": [
    "An example of the randint command in use is demostrated below."
   ]
  },
  {
   "cell_type": "code",
   "execution_count": 11,
   "metadata": {},
   "outputs": [
    {
     "data": {
      "text/plain": [
       "array([13, 13, 14, 13, 14, 11, 13, 13, 14, 11, 11, 11, 14, 14, 14, 14, 11,\n",
       "       14, 12, 11, 11, 13, 12, 12, 12])"
      ]
     },
     "execution_count": 11,
     "metadata": {},
     "output_type": "execute_result"
    }
   ],
   "source": [
    "import numpy as np\n",
    "np.random.randint(11,high=15, size=25)\n"
   ]
  },
  {
   "cell_type": "markdown",
   "metadata": {},
   "source": [
    "This command has filled an array of 25  with random integers between 11 and 15,changing this command slightly was can get a difffernt array format. \n"
   ]
  },
  {
   "cell_type": "code",
   "execution_count": 24,
   "metadata": {},
   "outputs": [
    {
     "data": {
      "text/plain": [
       "array([[14,  5, 14],\n",
       "       [ 1,  4, 14],\n",
       "       [14, 15,  1],\n",
       "       [10, 12,  9],\n",
       "       [ 3,  7, 15],\n",
       "       [14,  6, 16]])"
      ]
     },
     "execution_count": 24,
     "metadata": {},
     "output_type": "execute_result"
    }
   ],
   "source": [
    "np.random.randint(1, high=17, size=(6, 3))"
   ]
  },
  {
   "cell_type": "markdown",
   "metadata": {},
   "source": [
    "As can be seen from the example above, these command are use when one is looking to create new random content, the next set of command can be used when one wants to randomise already existing content "
   ]
  },
  {
   "cell_type": "markdown",
   "metadata": {},
   "source": [
    "### Permutations\n",
    "Below is the list of permutation commands availible in the numby.random package, these commands can re-order the sequence of existing numbers. \n",
    "![Permutaion commands (source:scipy.org)](img/Perm.PNG)"
   ]
  },
  {
   "cell_type": "code",
   "execution_count": null,
   "metadata": {
    "collapsed": true
   },
   "outputs": [],
   "source": []
  }
 ],
 "metadata": {
  "kernelspec": {
   "display_name": "Python 3",
   "language": "python",
   "name": "python3"
  },
  "language_info": {
   "codemirror_mode": {
    "name": "ipython",
    "version": 3
   },
   "file_extension": ".py",
   "mimetype": "text/x-python",
   "name": "python",
   "nbconvert_exporter": "python",
   "pygments_lexer": "ipython3",
   "version": "3.6.3"
  }
 },
 "nbformat": 4,
 "nbformat_minor": 2
}
